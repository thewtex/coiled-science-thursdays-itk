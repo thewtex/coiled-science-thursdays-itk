{
 "cells": [
  {
   "cell_type": "markdown",
   "metadata": {},
   "source": [
    "# Image Data Storage for the Web"
   ]
  },
  {
   "cell_type": "markdown",
   "metadata": {},
   "source": [
    "## Learning objectives\n",
    "\n",
    "- Become familiar with the design of modern, **cloud storage systems**\n",
    "- Gain experience with the **zarr** and **n5 formats**\n",
    "- Understand the relationship between **chunked, compressed**, object storage and **parallel processing and multi-scale visualization**\n",
    "\n",
    "*See also*: [I2K 2020 Tutorial: Zarr, N5, NGFF, Towards a community standard image file format for sharing big image data in the cloud](https://www.janelia.org/sites/default/files/You%20%2B%20Janelia/Conferences/19.pdf)"
   ]
  },
  {
   "cell_type": "markdown",
   "metadata": {},
   "source": [
    "# Cloud storage\n",
    "\n",
    "**Cloud storage services**, such as:\n",
    "\n",
    "- Amazon Simple Storage Service (AWS S3)\n",
    "- Google Cloud Storage\n",
    "- Microsoft Azure Storage\n",
    "- Minio Cloud Storage\n",
    "\n",
    "**differ from traditional filesystem storage**.\n",
    "\n",
    "In *File Storage*:\n",
    "\n",
    "- Data is organized into files and folders.\n",
    "- There is generally a pool of storage, e.g. a volume, with limited capacity that can be accessed.\n",
    "- Data can be overwritten.\n",
    "- Limited metadata is associated with the file.\n",
    "\n",
    "In cloud, *Object Storage* systems:\n",
    "\n",
    "- Objects, binary blobs, live in a flat structure.\n",
    "- Object have a unique identifier and associated metadata, typically JSON-compatible\n",
    "- Access is possible via simple HTTP requests\n",
    "- Object's cannot be modified\n",
    "- There are not structural limits to scaling"
   ]
  },
  {
   "cell_type": "markdown",
   "metadata": {},
   "source": [
    "## Zarr and n5 formats"
   ]
  },
  {
   "cell_type": "markdown",
   "metadata": {},
   "source": [
    "[Zarr](https://zarr-developers.github.io/about/) and [n5](https://github.com/saalfeldlab/n5/) are file formats with reference implementations that map well to cloud Object Storage services. They are also suitable for storage of large bioimages.\n",
    "\n",
    "Together zarr and n5 are implementations of the [Next-generation File Format (NGFF)](https://ngff.openmicroscopy.org/latest/), which is *a hierarchy of n-dimensional (dense) arrays with metadata*.\n",
    "\n",
    "Zarr and n5 support:\n",
    "\n",
    "- Group hierarchies\n",
    "- Arbitrary JSON-compatible meta-data\n",
    "- Chunked, n-dimensional binary tensor datasets\n",
    "- Binary component types: [u]int8, [u]int16, [u]int32, [u]int64, float32, float64\n",
    "- Next-generation lossless compression with [blosc](https://blosc.org/pages/blosc-in-depth/) of binary chunks.\n",
    "\n",
    "When combined with a **multi-scale image model** such as [OME-Zarr](https://blog.openmicroscopy.org/file-formats/community/2020/11/04/zarr-data/), **large image visualization** is possible.\n",
    "\n",
    "The object storage-compatible model facilitates **parallel processing** because it is conducive to **compressed chunk writes**, even in a cloud storage environment."
   ]
  },
  {
   "cell_type": "code",
   "execution_count": 26,
   "metadata": {},
   "outputs": [
    {
     "data": {
      "text/html": [
       "<table>\n",
       "<tr>\n",
       "<td>\n",
       "<table>\n",
       "  <thead>\n",
       "    <tr><td> </td><th> Array </th><th> Chunk </th></tr>\n",
       "  </thead>\n",
       "  <tbody>\n",
       "    <tr><th> Bytes </th><td> 67.09 MiB </td> <td> 145.56 kiB </td></tr>\n",
       "    <tr><th> Shape </th><td> (1, 2, 236, 275, 271) </td> <td> (1, 1, 1, 275, 271) </td></tr>\n",
       "    <tr><th> Count </th><td> 473 Tasks </td><td> 472 Chunks </td></tr>\n",
       "    <tr><th> Type </th><td> uint16 </td><td> numpy.ndarray </td></tr>\n",
       "  </tbody>\n",
       "</table>\n",
       "</td>\n",
       "<td>\n",
       "<svg width=\"418\" height=\"230\" style=\"stroke:rgb(0,0,0);stroke-width:1\" >\n",
       "\n",
       "  <!-- Horizontal lines -->\n",
       "  <line x1=\"0\" y1=\"0\" x2=\"25\" y2=\"0\" style=\"stroke-width:2\" />\n",
       "  <line x1=\"0\" y1=\"25\" x2=\"25\" y2=\"25\" style=\"stroke-width:2\" />\n",
       "\n",
       "  <!-- Vertical lines -->\n",
       "  <line x1=\"0\" y1=\"0\" x2=\"0\" y2=\"25\" style=\"stroke-width:2\" />\n",
       "  <line x1=\"12\" y1=\"0\" x2=\"12\" y2=\"25\" />\n",
       "  <line x1=\"25\" y1=\"0\" x2=\"25\" y2=\"25\" style=\"stroke-width:2\" />\n",
       "\n",
       "  <!-- Colored Rectangle -->\n",
       "  <polygon points=\"0.0,0.0 25.412616514582485,0.0 25.412616514582485,25.412616514582485 0.0,25.412616514582485\" style=\"fill:#ECB172A0;stroke-width:0\"/>\n",
       "\n",
       "  <!-- Text -->\n",
       "  <text x=\"12.706308\" y=\"45.412617\" font-size=\"1.0rem\" font-weight=\"100\" text-anchor=\"middle\" >2</text>\n",
       "  <text x=\"45.412617\" y=\"12.706308\" font-size=\"1.0rem\" font-weight=\"100\" text-anchor=\"middle\" transform=\"rotate(0,45.412617,12.706308)\">1</text>\n",
       "\n",
       "\n",
       "  <!-- Horizontal lines -->\n",
       "  <line x1=\"95\" y1=\"0\" x2=\"155\" y2=\"60\" style=\"stroke-width:2\" />\n",
       "  <line x1=\"95\" y1=\"120\" x2=\"155\" y2=\"180\" style=\"stroke-width:2\" />\n",
       "\n",
       "  <!-- Vertical lines -->\n",
       "  <line x1=\"95\" y1=\"0\" x2=\"95\" y2=\"120\" style=\"stroke-width:2\" />\n",
       "  <line x1=\"96\" y1=\"1\" x2=\"96\" y2=\"121\" />\n",
       "  <line x1=\"98\" y1=\"3\" x2=\"98\" y2=\"123\" />\n",
       "  <line x1=\"100\" y1=\"5\" x2=\"100\" y2=\"125\" />\n",
       "  <line x1=\"102\" y1=\"7\" x2=\"102\" y2=\"127\" />\n",
       "  <line x1=\"104\" y1=\"9\" x2=\"104\" y2=\"129\" />\n",
       "  <line x1=\"106\" y1=\"11\" x2=\"106\" y2=\"131\" />\n",
       "  <line x1=\"108\" y1=\"13\" x2=\"108\" y2=\"133\" />\n",
       "  <line x1=\"110\" y1=\"15\" x2=\"110\" y2=\"135\" />\n",
       "  <line x1=\"111\" y1=\"16\" x2=\"111\" y2=\"136\" />\n",
       "  <line x1=\"113\" y1=\"18\" x2=\"113\" y2=\"138\" />\n",
       "  <line x1=\"115\" y1=\"20\" x2=\"115\" y2=\"140\" />\n",
       "  <line x1=\"117\" y1=\"22\" x2=\"117\" y2=\"142\" />\n",
       "  <line x1=\"119\" y1=\"24\" x2=\"119\" y2=\"144\" />\n",
       "  <line x1=\"121\" y1=\"26\" x2=\"121\" y2=\"146\" />\n",
       "  <line x1=\"123\" y1=\"28\" x2=\"123\" y2=\"148\" />\n",
       "  <line x1=\"125\" y1=\"30\" x2=\"125\" y2=\"150\" />\n",
       "  <line x1=\"127\" y1=\"32\" x2=\"127\" y2=\"152\" />\n",
       "  <line x1=\"128\" y1=\"33\" x2=\"128\" y2=\"153\" />\n",
       "  <line x1=\"130\" y1=\"35\" x2=\"130\" y2=\"155\" />\n",
       "  <line x1=\"132\" y1=\"37\" x2=\"132\" y2=\"157\" />\n",
       "  <line x1=\"134\" y1=\"39\" x2=\"134\" y2=\"159\" />\n",
       "  <line x1=\"136\" y1=\"41\" x2=\"136\" y2=\"161\" />\n",
       "  <line x1=\"138\" y1=\"43\" x2=\"138\" y2=\"163\" />\n",
       "  <line x1=\"140\" y1=\"45\" x2=\"140\" y2=\"165\" />\n",
       "  <line x1=\"142\" y1=\"47\" x2=\"142\" y2=\"167\" />\n",
       "  <line x1=\"144\" y1=\"49\" x2=\"144\" y2=\"169\" />\n",
       "  <line x1=\"146\" y1=\"51\" x2=\"146\" y2=\"171\" />\n",
       "  <line x1=\"147\" y1=\"52\" x2=\"147\" y2=\"172\" />\n",
       "  <line x1=\"149\" y1=\"54\" x2=\"149\" y2=\"174\" />\n",
       "  <line x1=\"151\" y1=\"56\" x2=\"151\" y2=\"176\" />\n",
       "  <line x1=\"153\" y1=\"58\" x2=\"153\" y2=\"178\" />\n",
       "  <line x1=\"155\" y1=\"60\" x2=\"155\" y2=\"180\" style=\"stroke-width:2\" />\n",
       "\n",
       "  <!-- Colored Rectangle -->\n",
       "  <polygon points=\"95.0,0.0 155.57754010695186,60.57754010695187 155.57754010695186,180.57754010695186 95.0,120.0\" style=\"fill:#8B4903A0;stroke-width:0\"/>\n",
       "\n",
       "  <!-- Horizontal lines -->\n",
       "  <line x1=\"95\" y1=\"0\" x2=\"213\" y2=\"0\" style=\"stroke-width:2\" />\n",
       "  <line x1=\"96\" y1=\"1\" x2=\"215\" y2=\"1\" />\n",
       "  <line x1=\"98\" y1=\"3\" x2=\"216\" y2=\"3\" />\n",
       "  <line x1=\"100\" y1=\"5\" x2=\"218\" y2=\"5\" />\n",
       "  <line x1=\"102\" y1=\"7\" x2=\"220\" y2=\"7\" />\n",
       "  <line x1=\"104\" y1=\"9\" x2=\"222\" y2=\"9\" />\n",
       "  <line x1=\"106\" y1=\"11\" x2=\"224\" y2=\"11\" />\n",
       "  <line x1=\"108\" y1=\"13\" x2=\"226\" y2=\"13\" />\n",
       "  <line x1=\"110\" y1=\"15\" x2=\"228\" y2=\"15\" />\n",
       "  <line x1=\"111\" y1=\"16\" x2=\"230\" y2=\"16\" />\n",
       "  <line x1=\"113\" y1=\"18\" x2=\"231\" y2=\"18\" />\n",
       "  <line x1=\"115\" y1=\"20\" x2=\"234\" y2=\"20\" />\n",
       "  <line x1=\"117\" y1=\"22\" x2=\"235\" y2=\"22\" />\n",
       "  <line x1=\"119\" y1=\"24\" x2=\"237\" y2=\"24\" />\n",
       "  <line x1=\"121\" y1=\"26\" x2=\"239\" y2=\"26\" />\n",
       "  <line x1=\"123\" y1=\"28\" x2=\"241\" y2=\"28\" />\n",
       "  <line x1=\"125\" y1=\"30\" x2=\"243\" y2=\"30\" />\n",
       "  <line x1=\"127\" y1=\"32\" x2=\"245\" y2=\"32\" />\n",
       "  <line x1=\"128\" y1=\"33\" x2=\"247\" y2=\"33\" />\n",
       "  <line x1=\"130\" y1=\"35\" x2=\"249\" y2=\"35\" />\n",
       "  <line x1=\"132\" y1=\"37\" x2=\"250\" y2=\"37\" />\n",
       "  <line x1=\"134\" y1=\"39\" x2=\"252\" y2=\"39\" />\n",
       "  <line x1=\"136\" y1=\"41\" x2=\"254\" y2=\"41\" />\n",
       "  <line x1=\"138\" y1=\"43\" x2=\"256\" y2=\"43\" />\n",
       "  <line x1=\"140\" y1=\"45\" x2=\"258\" y2=\"45\" />\n",
       "  <line x1=\"142\" y1=\"47\" x2=\"260\" y2=\"47\" />\n",
       "  <line x1=\"144\" y1=\"49\" x2=\"262\" y2=\"49\" />\n",
       "  <line x1=\"146\" y1=\"51\" x2=\"264\" y2=\"51\" />\n",
       "  <line x1=\"147\" y1=\"52\" x2=\"266\" y2=\"52\" />\n",
       "  <line x1=\"149\" y1=\"54\" x2=\"267\" y2=\"54\" />\n",
       "  <line x1=\"151\" y1=\"56\" x2=\"269\" y2=\"56\" />\n",
       "  <line x1=\"153\" y1=\"58\" x2=\"271\" y2=\"58\" />\n",
       "  <line x1=\"155\" y1=\"60\" x2=\"273\" y2=\"60\" style=\"stroke-width:2\" />\n",
       "\n",
       "  <!-- Vertical lines -->\n",
       "  <line x1=\"95\" y1=\"0\" x2=\"155\" y2=\"60\" style=\"stroke-width:2\" />\n",
       "  <line x1=\"213\" y1=\"0\" x2=\"273\" y2=\"60\" style=\"stroke-width:2\" />\n",
       "\n",
       "  <!-- Colored Rectangle -->\n",
       "  <polygon points=\"95.0,0.0 213.25454545454545,0.0 273.8320855614973,60.57754010695187 155.57754010695186,60.57754010695187\" style=\"fill:#8B4903A0;stroke-width:0\"/>\n",
       "\n",
       "  <!-- Horizontal lines -->\n",
       "  <line x1=\"155\" y1=\"60\" x2=\"273\" y2=\"60\" style=\"stroke-width:2\" />\n",
       "  <line x1=\"155\" y1=\"180\" x2=\"273\" y2=\"180\" style=\"stroke-width:2\" />\n",
       "\n",
       "  <!-- Vertical lines -->\n",
       "  <line x1=\"155\" y1=\"60\" x2=\"155\" y2=\"180\" style=\"stroke-width:2\" />\n",
       "  <line x1=\"273\" y1=\"60\" x2=\"273\" y2=\"180\" style=\"stroke-width:2\" />\n",
       "\n",
       "  <!-- Colored Rectangle -->\n",
       "  <polygon points=\"155.57754010695186,60.57754010695187 273.8320855614973,60.57754010695187 273.8320855614973,180.57754010695186 155.57754010695186,180.57754010695186\" style=\"fill:#ECB172A0;stroke-width:0\"/>\n",
       "\n",
       "  <!-- Text -->\n",
       "  <text x=\"214.704813\" y=\"200.577540\" font-size=\"1.0rem\" font-weight=\"100\" text-anchor=\"middle\" >271</text>\n",
       "  <text x=\"293.832086\" y=\"120.577540\" font-size=\"1.0rem\" font-weight=\"100\" text-anchor=\"middle\" transform=\"rotate(-90,293.832086,120.577540)\">275</text>\n",
       "  <text x=\"115.288770\" y=\"170.288770\" font-size=\"1.0rem\" font-weight=\"100\" text-anchor=\"middle\" transform=\"rotate(45,115.288770,170.288770)\">236</text>\n",
       "</svg>\n",
       "</td>\n",
       "</tr>\n",
       "</table>"
      ],
      "text/plain": [
       "dask.array<from-zarr, shape=(1, 2, 236, 275, 271), dtype=uint16, chunksize=(1, 1, 1, 275, 271), chunktype=numpy.ndarray>"
      ]
     },
     "execution_count": 26,
     "metadata": {},
     "output_type": "execute_result"
    }
   ],
   "source": [
    "# Load the OME-Zarr image array\n",
    "import dask.array as da\n",
    "\n",
    "arr = da.from_zarr('https://s3.embassy.ebi.ac.uk/idr/zarr/v0.1/6001240.zarr', '0')\n",
    "arr"
   ]
  },
  {
   "cell_type": "code",
   "execution_count": 27,
   "metadata": {},
   "outputs": [
    {
     "data": {
      "application/vnd.jupyter.widget-view+json": {
       "model_id": "bc1dfe354b3e422b9af9612a73b8f663",
       "version_major": 2,
       "version_minor": 0
      },
      "text/plain": [
       "Viewer(geometries=[], gradient_opacity=0.22, point_sets=[], rendered_image=<itk.itkImagePython.itkImageUS3; pr…"
      ]
     },
     "metadata": {},
     "output_type": "display_data"
    }
   ],
   "source": [
    "from itkwidgets import view\n",
    "\n",
    "vol = arr[0,1,:,:,:]\n",
    "view(vol)"
   ]
  },
  {
   "cell_type": "markdown",
   "metadata": {},
   "source": [
    "### Zarr Resources\n",
    "\n",
    "- [Zarr documentation](https://zarr.readthedocs.io/en/stable/)\n",
    "- [NGFF](https://ngff.openmicroscopy.org/latest/)\n",
    "- [image.sc Discourse Discussion](https://forum.image.sc/)\n",
    "- [I2K 2020 Tutorial: Zarr, N5, NGFF, Towards a community standard image file format for sharing big image data in the cloud](https://www.janelia.org/sites/default/files/You%20%2B%20Janelia/Conferences/19.pdf)"
   ]
  }
 ],
 "metadata": {
  "kernelspec": {
   "display_name": "Python 3",
   "language": "python",
   "name": "python3"
  },
  "language_info": {
   "codemirror_mode": {
    "name": "ipython",
    "version": 3
   },
   "file_extension": ".py",
   "mimetype": "text/x-python",
   "name": "python",
   "nbconvert_exporter": "python",
   "pygments_lexer": "ipython3",
   "version": "3.9.5"
  }
 },
 "nbformat": 4,
 "nbformat_minor": 4
}
