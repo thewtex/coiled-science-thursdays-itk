{
 "cells": [
  {
   "cell_type": "markdown",
   "metadata": {
    "slideshow": {
     "slide_type": "slide"
    }
   },
   "source": [
    "# Insights into Microscopy Images"
   ]
  },
  {
   "cell_type": "markdown",
   "metadata": {
    "slideshow": {
     "slide_type": "subslide"
    }
   },
   "source": [
    "### Learning Objectives\n",
    "\n",
    "* Learn how to **run** cells in **a Jupyter Notebook**\n",
    "* Run a segmentation example that demonstrates **ITK**'s ability to provide **insight into images**\n",
    "* Understand the **purpose and capabilities** of the toolkit"
   ]
  },
  {
   "cell_type": "markdown",
   "metadata": {
    "slideshow": {
     "slide_type": "slide"
    }
   },
   "source": [
    "## Jupyter Notebooks"
   ]
  },
  {
   "cell_type": "markdown",
   "metadata": {
    "slideshow": {
     "slide_type": "subslide"
    }
   },
   "source": [
    "These are [Jupyter Notebooks](https://jupyter.org/), an open-source web application that allows you to create and share documents that contain live code, equations, visualizations and narrative text.\n",
    "\n",
    "To run cells in the notebook, press *shift + enter*.\n",
    "\n",
    "For more information, see the [Notebook Help](https://nbviewer.jupyter.org/github/ipython/ipython/blob/3.x/examples/Notebook/Index.ipynb)"
   ]
  },
  {
   "cell_type": "markdown",
   "metadata": {
    "slideshow": {
     "slide_type": "slide"
    }
   },
   "source": [
    "## What is in my image?"
   ]
  },
  {
   "cell_type": "code",
   "execution_count": 1,
   "metadata": {
    "slideshow": {
     "slide_type": "slide"
    }
   },
   "outputs": [],
   "source": [
    "import itk\n",
    "\n",
    "image = itk.imread('data/6001240.tif')"
   ]
  },
  {
   "cell_type": "code",
   "execution_count": 2,
   "metadata": {
    "scrolled": true
   },
   "outputs": [
    {
     "data": {
      "application/vnd.jupyter.widget-view+json": {
       "model_id": "a2e07fc2e3064d95bc717bb78e8278be",
       "version_major": 2,
       "version_minor": 0
      },
      "text/plain": [
       "Viewer(geometries=[], gradient_opacity=0.5, point_sets=[], rendered_image=<itk.itkImagePython.itkImageUS3; pro…"
      ]
     },
     "metadata": {},
     "output_type": "display_data"
    }
   ],
   "source": [
    "from itkwidgets import view\n",
    "\n",
    "view(image, gradient_opacity=0.5)"
   ]
  },
  {
   "cell_type": "markdown",
   "metadata": {},
   "source": [
    "- Data source: https://doi.org/10.17867/10000125\n",
    "- Article: https://doi.org/10.1371/journal.pbio.3000388\n",
    "- Link: https://idr.openmicroscopy.org/webclient/?show=image-6001240\n",
    "- Organism:\tMus musculus\n",
    "- Study Title:\tNesSys: a new set of tools for the automated detection of nuclei within intact tissues and dense 3D cultures\n",
    "- Imaging Method:\tconfocal microscopy\n",
    "- Publication Title:\tNesSys: a novel method for accurate nuclear segmentation in 3D\n",
    "- Publication Authors:\tBlin G, Sadurska D, Migueles RP, Chen N, Watson JA, Lowell S\n",
    "- Protocol 1:\tgrowth protocol - Mouse blastocysts (E3.5)\n",
    "- Protocol 2:\tImmunostaining: LaminB1 antibody: ab16048 (dilution 1:1000).\n",
    "- Protocol 3:\tImaged with an Sp8 leica confocal microscope and HC PL APO 40x/1.30 Oil CS2 objective. Nuclear features were extracted in PickCells using manually segmented nuclei in Nessys editor."
   ]
  },
  {
   "cell_type": "markdown",
   "metadata": {
    "slideshow": {
     "slide_type": "slide"
    }
   },
   "source": [
    "## Can I reduce the noise?"
   ]
  },
  {
   "cell_type": "code",
   "execution_count": 3,
   "metadata": {
    "slideshow": {
     "slide_type": "fragment"
    }
   },
   "outputs": [
    {
     "data": {
      "application/vnd.jupyter.widget-view+json": {
       "model_id": "97975ea853104d78b08d9d9263bac2c8",
       "version_major": 2,
       "version_minor": 0
      },
      "text/plain": [
       "Viewer(geometries=[], gradient_opacity=0.5, point_sets=[], rendered_image=<itk.itkImagePython.itkImageF3; prox…"
      ]
     },
     "metadata": {},
     "output_type": "display_data"
    }
   ],
   "source": [
    "import numpy as np\n",
    "\n",
    "image_float = image.astype(np.float32)\n",
    "\n",
    "denoised = itk.curvature_flow_image_filter(image_float,\n",
    "                                           number_of_iterations=10)\n",
    "denoised = itk.median_image_filter(denoised,\n",
    "                                   radius=1)\n",
    "denoised = itk.smoothing_recursive_gaussian_image_filter(denoised,\n",
    "                                   sigma=0.5)\n",
    "\n",
    "view(denoised, gradient_opacity=0.5)"
   ]
  },
  {
   "cell_type": "markdown",
   "metadata": {
    "slideshow": {
     "slide_type": "slide"
    }
   },
   "source": [
    "## History of ITK"
   ]
  },
  {
   "cell_type": "markdown",
   "metadata": {
    "slideshow": {
     "slide_type": "subslide"
    }
   },
   "source": [
    "### Insight into Images\n",
    "\n",
    "![Visible Human Head Rendering](data/VisibleHumanHeadRender.png)\n",
    "\n",
    "http://itk.org"
   ]
  },
  {
   "cell_type": "markdown",
   "metadata": {
    "slideshow": {
     "slide_type": "subslide"
    }
   },
   "source": [
    "### History\n",
    "\n",
    "In 1999, the US National Institute of Health’s (NIH) National Library of Medicine (NLM) started a project to support the Visible Human Project.\n",
    "\n",
    "![Visible Human Logo](data/VisibleHumanLogo.png)\n",
    "\n",
    "![Visible Human Slice](data/VisibleHumanSlice.png)\n"
   ]
  },
  {
   "cell_type": "markdown",
   "metadata": {
    "slideshow": {
     "slide_type": "subslide"
    }
   },
   "source": [
    "### Goals\n",
    "\n",
    "* Collect best-of-the-best image analysis algorithms for reproducible science.\n",
    "* Provide a software resource for teaching medical image analysis algorithms.\n",
    "* Establish a foundation for future research.\n",
    "* Support commercial applications.\n",
    "* Create conventions for future work.\n",
    "* Grow a self-sustaining community of software users and developers."
   ]
  },
  {
   "cell_type": "markdown",
   "metadata": {
    "slideshow": {
     "slide_type": "subslide"
    }
   },
   "source": [
    "### Continued Development\n",
    "\n",
    "* Development has progressed since 1999\n",
    "* Contributions from over 300 developers\n",
    "* Over 1.7 million lines of code\n",
    "\n",
    "![ITK contributors](data/itk-contributors.png)\n",
    "\n",
    "ITK contributors locations for the 4.8 and 4.9 releases."
   ]
  },
  {
   "cell_type": "markdown",
   "metadata": {
    "slideshow": {
     "slide_type": "slide"
    }
   },
   "source": [
    "## Features"
   ]
  },
  {
   "cell_type": "markdown",
   "metadata": {
    "slideshow": {
     "slide_type": "subslide"
    }
   },
   "source": [
    "### N-Dimensional Image Filtering\n",
    "\n",
    "![Filtering](data/Filtering.png)"
   ]
  },
  {
   "cell_type": "markdown",
   "metadata": {
    "slideshow": {
     "slide_type": "subslide"
    }
   },
   "source": [
    "### Filtering Algorithms Classes\n",
    "\n",
    "* Fast marching methods\n",
    "* Convolution\n",
    "* Image gradient\n",
    "* Denoising\n",
    "* Thresholding\n",
    "* Mathematical morphology\n",
    "* Smoothing\n",
    "* Image features\n",
    "* Image statistics\n",
    "* Bias correction\n",
    "* Image grid operations\n",
    "* ...."
   ]
  },
  {
   "cell_type": "markdown",
   "metadata": {
    "slideshow": {
     "slide_type": "subslide"
    }
   },
   "source": [
    "### Segmentation\n",
    "\n",
    "\"Image segmentation is the process of partitioning a digital image into multiple segments, i.e. sets of pixels. The goal of segmentation is to simplify and/or change the representation of an image into something that is more meaningful and easier to analyze.\"\n",
    "\n",
    "Source: [Wikipedia](https://en.wikipedia.org/wiki/Image_segmentation)"
   ]
  },
  {
   "cell_type": "markdown",
   "metadata": {
    "slideshow": {
     "slide_type": "subslide"
    }
   },
   "source": [
    "### Segmentation\n",
    "\n",
    "![Segmentation](data/SegmentationLevelSet.png)"
   ]
  },
  {
   "cell_type": "markdown",
   "metadata": {
    "slideshow": {
     "slide_type": "subslide"
    }
   },
   "source": [
    "### Segmentation\n",
    "\n",
    "![Segmentation](data/Segmentation2.png)"
   ]
  },
  {
   "cell_type": "markdown",
   "metadata": {
    "slideshow": {
     "slide_type": "subslide"
    }
   },
   "source": [
    "### Registration\n",
    "\n",
    "\"Image registration is the process of transforming different sets of data into one coordinate system. [...] Registration is necessary in order to be able to compare or integrate the data obtained from these different measurements.\"\n",
    "\n",
    "Source: [Wikipedia](https://en.wikipedia.org/wiki/Image_registration)"
   ]
  },
  {
   "cell_type": "markdown",
   "metadata": {
    "slideshow": {
     "slide_type": "subslide"
    }
   },
   "source": [
    "### Registration\n",
    "\n",
    "![Registration](data/Registration.png)"
   ]
  },
  {
   "cell_type": "code",
   "execution_count": 4,
   "metadata": {},
   "outputs": [
    {
     "data": {
      "text/html": [
       "<div><svg style=\"position: absolute; width: 0; height: 0; overflow: hidden\">\n",
       "<defs>\n",
       "<symbol id=\"icon-database\" viewBox=\"0 0 32 32\">\n",
       "<path d=\"M16 0c-8.837 0-16 2.239-16 5v4c0 2.761 7.163 5 16 5s16-2.239 16-5v-4c0-2.761-7.163-5-16-5z\"></path>\n",
       "<path d=\"M16 17c-8.837 0-16-2.239-16-5v6c0 2.761 7.163 5 16 5s16-2.239 16-5v-6c0 2.761-7.163 5-16 5z\"></path>\n",
       "<path d=\"M16 26c-8.837 0-16-2.239-16-5v6c0 2.761 7.163 5 16 5s16-2.239 16-5v-6c0 2.761-7.163 5-16 5z\"></path>\n",
       "</symbol>\n",
       "<symbol id=\"icon-file-text2\" viewBox=\"0 0 32 32\">\n",
       "<path d=\"M28.681 7.159c-0.694-0.947-1.662-2.053-2.724-3.116s-2.169-2.030-3.116-2.724c-1.612-1.182-2.393-1.319-2.841-1.319h-15.5c-1.378 0-2.5 1.121-2.5 2.5v27c0 1.378 1.122 2.5 2.5 2.5h23c1.378 0 2.5-1.122 2.5-2.5v-19.5c0-0.448-0.137-1.23-1.319-2.841zM24.543 5.457c0.959 0.959 1.712 1.825 2.268 2.543h-4.811v-4.811c0.718 0.556 1.584 1.309 2.543 2.268zM28 29.5c0 0.271-0.229 0.5-0.5 0.5h-23c-0.271 0-0.5-0.229-0.5-0.5v-27c0-0.271 0.229-0.5 0.5-0.5 0 0 15.499-0 15.5 0v7c0 0.552 0.448 1 1 1h7v19.5z\"></path>\n",
       "<path d=\"M23 26h-14c-0.552 0-1-0.448-1-1s0.448-1 1-1h14c0.552 0 1 0.448 1 1s-0.448 1-1 1z\"></path>\n",
       "<path d=\"M23 22h-14c-0.552 0-1-0.448-1-1s0.448-1 1-1h14c0.552 0 1 0.448 1 1s-0.448 1-1 1z\"></path>\n",
       "<path d=\"M23 18h-14c-0.552 0-1-0.448-1-1s0.448-1 1-1h14c0.552 0 1 0.448 1 1s-0.448 1-1 1z\"></path>\n",
       "</symbol>\n",
       "</defs>\n",
       "</svg>\n",
       "<style>/* CSS stylesheet for displaying xarray objects in jupyterlab.\n",
       " *\n",
       " */\n",
       "\n",
       ":root {\n",
       "  --xr-font-color0: var(--jp-content-font-color0, rgba(0, 0, 0, 1));\n",
       "  --xr-font-color2: var(--jp-content-font-color2, rgba(0, 0, 0, 0.54));\n",
       "  --xr-font-color3: var(--jp-content-font-color3, rgba(0, 0, 0, 0.38));\n",
       "  --xr-border-color: var(--jp-border-color2, #e0e0e0);\n",
       "  --xr-disabled-color: var(--jp-layout-color3, #bdbdbd);\n",
       "  --xr-background-color: var(--jp-layout-color0, white);\n",
       "  --xr-background-color-row-even: var(--jp-layout-color1, white);\n",
       "  --xr-background-color-row-odd: var(--jp-layout-color2, #eeeeee);\n",
       "}\n",
       "\n",
       "html[theme=dark],\n",
       "body.vscode-dark {\n",
       "  --xr-font-color0: rgba(255, 255, 255, 1);\n",
       "  --xr-font-color2: rgba(255, 255, 255, 0.54);\n",
       "  --xr-font-color3: rgba(255, 255, 255, 0.38);\n",
       "  --xr-border-color: #1F1F1F;\n",
       "  --xr-disabled-color: #515151;\n",
       "  --xr-background-color: #111111;\n",
       "  --xr-background-color-row-even: #111111;\n",
       "  --xr-background-color-row-odd: #313131;\n",
       "}\n",
       "\n",
       ".xr-wrap {\n",
       "  display: block;\n",
       "  min-width: 300px;\n",
       "  max-width: 700px;\n",
       "}\n",
       "\n",
       ".xr-text-repr-fallback {\n",
       "  /* fallback to plain text repr when CSS is not injected (untrusted notebook) */\n",
       "  display: none;\n",
       "}\n",
       "\n",
       ".xr-header {\n",
       "  padding-top: 6px;\n",
       "  padding-bottom: 6px;\n",
       "  margin-bottom: 4px;\n",
       "  border-bottom: solid 1px var(--xr-border-color);\n",
       "}\n",
       "\n",
       ".xr-header > div,\n",
       ".xr-header > ul {\n",
       "  display: inline;\n",
       "  margin-top: 0;\n",
       "  margin-bottom: 0;\n",
       "}\n",
       "\n",
       ".xr-obj-type,\n",
       ".xr-array-name {\n",
       "  margin-left: 2px;\n",
       "  margin-right: 10px;\n",
       "}\n",
       "\n",
       ".xr-obj-type {\n",
       "  color: var(--xr-font-color2);\n",
       "}\n",
       "\n",
       ".xr-sections {\n",
       "  padding-left: 0 !important;\n",
       "  display: grid;\n",
       "  grid-template-columns: 150px auto auto 1fr 20px 20px;\n",
       "}\n",
       "\n",
       ".xr-section-item {\n",
       "  display: contents;\n",
       "}\n",
       "\n",
       ".xr-section-item input {\n",
       "  display: none;\n",
       "}\n",
       "\n",
       ".xr-section-item input + label {\n",
       "  color: var(--xr-disabled-color);\n",
       "}\n",
       "\n",
       ".xr-section-item input:enabled + label {\n",
       "  cursor: pointer;\n",
       "  color: var(--xr-font-color2);\n",
       "}\n",
       "\n",
       ".xr-section-item input:enabled + label:hover {\n",
       "  color: var(--xr-font-color0);\n",
       "}\n",
       "\n",
       ".xr-section-summary {\n",
       "  grid-column: 1;\n",
       "  color: var(--xr-font-color2);\n",
       "  font-weight: 500;\n",
       "}\n",
       "\n",
       ".xr-section-summary > span {\n",
       "  display: inline-block;\n",
       "  padding-left: 0.5em;\n",
       "}\n",
       "\n",
       ".xr-section-summary-in:disabled + label {\n",
       "  color: var(--xr-font-color2);\n",
       "}\n",
       "\n",
       ".xr-section-summary-in + label:before {\n",
       "  display: inline-block;\n",
       "  content: '►';\n",
       "  font-size: 11px;\n",
       "  width: 15px;\n",
       "  text-align: center;\n",
       "}\n",
       "\n",
       ".xr-section-summary-in:disabled + label:before {\n",
       "  color: var(--xr-disabled-color);\n",
       "}\n",
       "\n",
       ".xr-section-summary-in:checked + label:before {\n",
       "  content: '▼';\n",
       "}\n",
       "\n",
       ".xr-section-summary-in:checked + label > span {\n",
       "  display: none;\n",
       "}\n",
       "\n",
       ".xr-section-summary,\n",
       ".xr-section-inline-details {\n",
       "  padding-top: 4px;\n",
       "  padding-bottom: 4px;\n",
       "}\n",
       "\n",
       ".xr-section-inline-details {\n",
       "  grid-column: 2 / -1;\n",
       "}\n",
       "\n",
       ".xr-section-details {\n",
       "  display: none;\n",
       "  grid-column: 1 / -1;\n",
       "  margin-bottom: 5px;\n",
       "}\n",
       "\n",
       ".xr-section-summary-in:checked ~ .xr-section-details {\n",
       "  display: contents;\n",
       "}\n",
       "\n",
       ".xr-array-wrap {\n",
       "  grid-column: 1 / -1;\n",
       "  display: grid;\n",
       "  grid-template-columns: 20px auto;\n",
       "}\n",
       "\n",
       ".xr-array-wrap > label {\n",
       "  grid-column: 1;\n",
       "  vertical-align: top;\n",
       "}\n",
       "\n",
       ".xr-preview {\n",
       "  color: var(--xr-font-color3);\n",
       "}\n",
       "\n",
       ".xr-array-preview,\n",
       ".xr-array-data {\n",
       "  padding: 0 5px !important;\n",
       "  grid-column: 2;\n",
       "}\n",
       "\n",
       ".xr-array-data,\n",
       ".xr-array-in:checked ~ .xr-array-preview {\n",
       "  display: none;\n",
       "}\n",
       "\n",
       ".xr-array-in:checked ~ .xr-array-data,\n",
       ".xr-array-preview {\n",
       "  display: inline-block;\n",
       "}\n",
       "\n",
       ".xr-dim-list {\n",
       "  display: inline-block !important;\n",
       "  list-style: none;\n",
       "  padding: 0 !important;\n",
       "  margin: 0;\n",
       "}\n",
       "\n",
       ".xr-dim-list li {\n",
       "  display: inline-block;\n",
       "  padding: 0;\n",
       "  margin: 0;\n",
       "}\n",
       "\n",
       ".xr-dim-list:before {\n",
       "  content: '(';\n",
       "}\n",
       "\n",
       ".xr-dim-list:after {\n",
       "  content: ')';\n",
       "}\n",
       "\n",
       ".xr-dim-list li:not(:last-child):after {\n",
       "  content: ',';\n",
       "  padding-right: 5px;\n",
       "}\n",
       "\n",
       ".xr-has-index {\n",
       "  font-weight: bold;\n",
       "}\n",
       "\n",
       ".xr-var-list,\n",
       ".xr-var-item {\n",
       "  display: contents;\n",
       "}\n",
       "\n",
       ".xr-var-item > div,\n",
       ".xr-var-item label,\n",
       ".xr-var-item > .xr-var-name span {\n",
       "  background-color: var(--xr-background-color-row-even);\n",
       "  margin-bottom: 0;\n",
       "}\n",
       "\n",
       ".xr-var-item > .xr-var-name:hover span {\n",
       "  padding-right: 5px;\n",
       "}\n",
       "\n",
       ".xr-var-list > li:nth-child(odd) > div,\n",
       ".xr-var-list > li:nth-child(odd) > label,\n",
       ".xr-var-list > li:nth-child(odd) > .xr-var-name span {\n",
       "  background-color: var(--xr-background-color-row-odd);\n",
       "}\n",
       "\n",
       ".xr-var-name {\n",
       "  grid-column: 1;\n",
       "}\n",
       "\n",
       ".xr-var-dims {\n",
       "  grid-column: 2;\n",
       "}\n",
       "\n",
       ".xr-var-dtype {\n",
       "  grid-column: 3;\n",
       "  text-align: right;\n",
       "  color: var(--xr-font-color2);\n",
       "}\n",
       "\n",
       ".xr-var-preview {\n",
       "  grid-column: 4;\n",
       "}\n",
       "\n",
       ".xr-var-name,\n",
       ".xr-var-dims,\n",
       ".xr-var-dtype,\n",
       ".xr-preview,\n",
       ".xr-attrs dt {\n",
       "  white-space: nowrap;\n",
       "  overflow: hidden;\n",
       "  text-overflow: ellipsis;\n",
       "  padding-right: 10px;\n",
       "}\n",
       "\n",
       ".xr-var-name:hover,\n",
       ".xr-var-dims:hover,\n",
       ".xr-var-dtype:hover,\n",
       ".xr-attrs dt:hover {\n",
       "  overflow: visible;\n",
       "  width: auto;\n",
       "  z-index: 1;\n",
       "}\n",
       "\n",
       ".xr-var-attrs,\n",
       ".xr-var-data {\n",
       "  display: none;\n",
       "  background-color: var(--xr-background-color) !important;\n",
       "  padding-bottom: 5px !important;\n",
       "}\n",
       "\n",
       ".xr-var-attrs-in:checked ~ .xr-var-attrs,\n",
       ".xr-var-data-in:checked ~ .xr-var-data {\n",
       "  display: block;\n",
       "}\n",
       "\n",
       ".xr-var-data > table {\n",
       "  float: right;\n",
       "}\n",
       "\n",
       ".xr-var-name span,\n",
       ".xr-var-data,\n",
       ".xr-attrs {\n",
       "  padding-left: 25px !important;\n",
       "}\n",
       "\n",
       ".xr-attrs,\n",
       ".xr-var-attrs,\n",
       ".xr-var-data {\n",
       "  grid-column: 1 / -1;\n",
       "}\n",
       "\n",
       "dl.xr-attrs {\n",
       "  padding: 0;\n",
       "  margin: 0;\n",
       "  display: grid;\n",
       "  grid-template-columns: 125px auto;\n",
       "}\n",
       "\n",
       ".xr-attrs dt,\n",
       ".xr-attrs dd {\n",
       "  padding: 0;\n",
       "  margin: 0;\n",
       "  float: left;\n",
       "  padding-right: 10px;\n",
       "  width: auto;\n",
       "}\n",
       "\n",
       ".xr-attrs dt {\n",
       "  font-weight: normal;\n",
       "  grid-column: 1;\n",
       "}\n",
       "\n",
       ".xr-attrs dt:hover span {\n",
       "  display: inline-block;\n",
       "  background: var(--xr-background-color);\n",
       "  padding-right: 10px;\n",
       "}\n",
       "\n",
       ".xr-attrs dd {\n",
       "  grid-column: 2;\n",
       "  white-space: pre-wrap;\n",
       "  word-break: break-all;\n",
       "}\n",
       "\n",
       ".xr-icon-database,\n",
       ".xr-icon-file-text2 {\n",
       "  display: inline-block;\n",
       "  vertical-align: middle;\n",
       "  width: 1em;\n",
       "  height: 1.5em !important;\n",
       "  stroke-width: 0;\n",
       "  stroke: currentColor;\n",
       "  fill: currentColor;\n",
       "}\n",
       "</style><pre class='xr-text-repr-fallback'>&lt;xarray.DataArray (z: 236, y: 275, x: 271)&gt;\n",
       "array([[[28, 27, 28, ..., 26, 34, 34],\n",
       "        [28, 28, 26, ..., 54, 28, 27],\n",
       "        [27, 28, 28, ..., 29, 28, 28],\n",
       "        ...,\n",
       "        [26, 27, 27, ..., 27, 28, 26],\n",
       "        [27, 26, 28, ..., 30, 26, 27],\n",
       "        [51, 27, 28, ..., 35, 45, 26]],\n",
       "\n",
       "       [[28, 29, 28, ..., 27, 28, 28],\n",
       "        [29, 27, 28, ..., 29, 28, 28],\n",
       "        [28, 29, 28, ..., 27, 27, 26],\n",
       "        ...,\n",
       "        [27, 27, 29, ..., 29, 27, 27],\n",
       "        [28, 27, 27, ..., 28, 27, 28],\n",
       "        [27, 27, 27, ..., 27, 29, 27]],\n",
       "\n",
       "       [[29, 27, 28, ..., 33, 28, 27],\n",
       "        [27, 28, 40, ..., 31, 29, 28],\n",
       "        [28, 28, 28, ..., 26, 27, 28],\n",
       "        ...,\n",
       "...\n",
       "        ...,\n",
       "        [28, 28, 28, ..., 29, 28, 51],\n",
       "        [27, 29, 28, ..., 28, 29, 28],\n",
       "        [28, 37, 28, ..., 28, 28, 52]],\n",
       "\n",
       "       [[28, 29, 27, ..., 31, 30, 37],\n",
       "        [30, 27, 28, ..., 28, 28, 32],\n",
       "        [28, 29, 32, ..., 31, 46, 29],\n",
       "        ...,\n",
       "        [29, 27, 29, ..., 28, 36, 29],\n",
       "        [29, 29, 28, ..., 29, 28, 28],\n",
       "        [28, 28, 29, ..., 27, 29, 28]],\n",
       "\n",
       "       [[33, 27, 27, ..., 35, 42, 28],\n",
       "        [28, 28, 28, ..., 29, 28, 43],\n",
       "        [28, 28, 27, ..., 28, 27, 28],\n",
       "        ...,\n",
       "        [28, 28, 28, ..., 27, 27, 40],\n",
       "        [28, 27, 29, ..., 28, 31, 27],\n",
       "        [27, 27, 28, ..., 27, 44, 32]]], dtype=uint16)\n",
       "Coordinates:\n",
       "  * x        (x) float64 0.0 1.0 2.0 3.0 4.0 ... 266.0 267.0 268.0 269.0 270.0\n",
       "  * y        (y) float64 0.0 1.0 2.0 3.0 4.0 ... 270.0 271.0 272.0 273.0 274.0\n",
       "  * z        (z) float64 0.0 1.0 2.0 3.0 4.0 ... 231.0 232.0 233.0 234.0 235.0\n",
       "Attributes:\n",
       "    direction:  [[1. 0. 0.]\\n [0. 1. 0.]\\n [0. 0. 1.]]\n",
       "    Software:   InsightToolkit</pre><div class='xr-wrap' hidden><div class='xr-header'><div class='xr-obj-type'>xarray.DataArray</div><div class='xr-array-name'></div><ul class='xr-dim-list'><li><span class='xr-has-index'>z</span>: 236</li><li><span class='xr-has-index'>y</span>: 275</li><li><span class='xr-has-index'>x</span>: 271</li></ul></div><ul class='xr-sections'><li class='xr-section-item'><div class='xr-array-wrap'><input id='section-17419ac5-a8e4-419d-9039-1c8dce1c02b3' class='xr-array-in' type='checkbox' checked><label for='section-17419ac5-a8e4-419d-9039-1c8dce1c02b3' title='Show/hide data repr'><svg class='icon xr-icon-database'><use xlink:href='#icon-database'></use></svg></label><div class='xr-array-preview xr-preview'><span>28 27 28 29 28 28 27 26 27 28 27 ... 27 28 30 28 31 29 40 28 27 44 32</span></div><div class='xr-array-data'><pre>array([[[28, 27, 28, ..., 26, 34, 34],\n",
       "        [28, 28, 26, ..., 54, 28, 27],\n",
       "        [27, 28, 28, ..., 29, 28, 28],\n",
       "        ...,\n",
       "        [26, 27, 27, ..., 27, 28, 26],\n",
       "        [27, 26, 28, ..., 30, 26, 27],\n",
       "        [51, 27, 28, ..., 35, 45, 26]],\n",
       "\n",
       "       [[28, 29, 28, ..., 27, 28, 28],\n",
       "        [29, 27, 28, ..., 29, 28, 28],\n",
       "        [28, 29, 28, ..., 27, 27, 26],\n",
       "        ...,\n",
       "        [27, 27, 29, ..., 29, 27, 27],\n",
       "        [28, 27, 27, ..., 28, 27, 28],\n",
       "        [27, 27, 27, ..., 27, 29, 27]],\n",
       "\n",
       "       [[29, 27, 28, ..., 33, 28, 27],\n",
       "        [27, 28, 40, ..., 31, 29, 28],\n",
       "        [28, 28, 28, ..., 26, 27, 28],\n",
       "        ...,\n",
       "...\n",
       "        ...,\n",
       "        [28, 28, 28, ..., 29, 28, 51],\n",
       "        [27, 29, 28, ..., 28, 29, 28],\n",
       "        [28, 37, 28, ..., 28, 28, 52]],\n",
       "\n",
       "       [[28, 29, 27, ..., 31, 30, 37],\n",
       "        [30, 27, 28, ..., 28, 28, 32],\n",
       "        [28, 29, 32, ..., 31, 46, 29],\n",
       "        ...,\n",
       "        [29, 27, 29, ..., 28, 36, 29],\n",
       "        [29, 29, 28, ..., 29, 28, 28],\n",
       "        [28, 28, 29, ..., 27, 29, 28]],\n",
       "\n",
       "       [[33, 27, 27, ..., 35, 42, 28],\n",
       "        [28, 28, 28, ..., 29, 28, 43],\n",
       "        [28, 28, 27, ..., 28, 27, 28],\n",
       "        ...,\n",
       "        [28, 28, 28, ..., 27, 27, 40],\n",
       "        [28, 27, 29, ..., 28, 31, 27],\n",
       "        [27, 27, 28, ..., 27, 44, 32]]], dtype=uint16)</pre></div></div></li><li class='xr-section-item'><input id='section-be76bc00-e045-470b-bd5e-60d2d28fa147' class='xr-section-summary-in' type='checkbox'  checked><label for='section-be76bc00-e045-470b-bd5e-60d2d28fa147' class='xr-section-summary' >Coordinates: <span>(3)</span></label><div class='xr-section-inline-details'></div><div class='xr-section-details'><ul class='xr-var-list'><li class='xr-var-item'><div class='xr-var-name'><span class='xr-has-index'>x</span></div><div class='xr-var-dims'>(x)</div><div class='xr-var-dtype'>float64</div><div class='xr-var-preview xr-preview'>0.0 1.0 2.0 ... 268.0 269.0 270.0</div><input id='attrs-2109e46f-5b74-41a5-86da-a8efd2db11a3' class='xr-var-attrs-in' type='checkbox' disabled><label for='attrs-2109e46f-5b74-41a5-86da-a8efd2db11a3' title='Show/Hide attributes'><svg class='icon xr-icon-file-text2'><use xlink:href='#icon-file-text2'></use></svg></label><input id='data-6cce86c3-5de5-49c2-b05b-4d3e8a445202' class='xr-var-data-in' type='checkbox'><label for='data-6cce86c3-5de5-49c2-b05b-4d3e8a445202' title='Show/Hide data repr'><svg class='icon xr-icon-database'><use xlink:href='#icon-database'></use></svg></label><div class='xr-var-attrs'><dl class='xr-attrs'></dl></div><div class='xr-var-data'><pre>array([  0.      ,   1.      ,   2.      , ..., 268.000004, 269.000004,\n",
       "       270.000004])</pre></div></li><li class='xr-var-item'><div class='xr-var-name'><span class='xr-has-index'>y</span></div><div class='xr-var-dims'>(y)</div><div class='xr-var-dtype'>float64</div><div class='xr-var-preview xr-preview'>0.0 1.0 2.0 ... 272.0 273.0 274.0</div><input id='attrs-c42ea708-b812-4748-80fd-94d100c26135' class='xr-var-attrs-in' type='checkbox' disabled><label for='attrs-c42ea708-b812-4748-80fd-94d100c26135' title='Show/Hide attributes'><svg class='icon xr-icon-file-text2'><use xlink:href='#icon-file-text2'></use></svg></label><input id='data-fdcf3802-4458-484e-a691-d4b292fc7ed9' class='xr-var-data-in' type='checkbox'><label for='data-fdcf3802-4458-484e-a691-d4b292fc7ed9' title='Show/Hide data repr'><svg class='icon xr-icon-database'><use xlink:href='#icon-database'></use></svg></label><div class='xr-var-attrs'><dl class='xr-attrs'></dl></div><div class='xr-var-data'><pre>array([  0.      ,   1.      ,   2.      , ..., 272.000004, 273.000004,\n",
       "       274.000004])</pre></div></li><li class='xr-var-item'><div class='xr-var-name'><span class='xr-has-index'>z</span></div><div class='xr-var-dims'>(z)</div><div class='xr-var-dtype'>float64</div><div class='xr-var-preview xr-preview'>0.0 1.0 2.0 ... 233.0 234.0 235.0</div><input id='attrs-129c2434-aee4-456f-9824-9dabb8c4cc89' class='xr-var-attrs-in' type='checkbox' disabled><label for='attrs-129c2434-aee4-456f-9824-9dabb8c4cc89' title='Show/Hide attributes'><svg class='icon xr-icon-file-text2'><use xlink:href='#icon-file-text2'></use></svg></label><input id='data-1f7616f8-6d60-4582-8a07-af1d9643e342' class='xr-var-data-in' type='checkbox'><label for='data-1f7616f8-6d60-4582-8a07-af1d9643e342' title='Show/Hide data repr'><svg class='icon xr-icon-database'><use xlink:href='#icon-database'></use></svg></label><div class='xr-var-attrs'><dl class='xr-attrs'></dl></div><div class='xr-var-data'><pre>array([  0.,   1.,   2., ..., 233., 234., 235.])</pre></div></li></ul></div></li><li class='xr-section-item'><input id='section-dee04b5d-41cb-4ac6-81b2-e7b1021257ff' class='xr-section-summary-in' type='checkbox'  checked><label for='section-dee04b5d-41cb-4ac6-81b2-e7b1021257ff' class='xr-section-summary' >Attributes: <span>(2)</span></label><div class='xr-section-inline-details'></div><div class='xr-section-details'><dl class='xr-attrs'><dt><span>direction :</span></dt><dd>[[1. 0. 0.]\n",
       " [0. 1. 0.]\n",
       " [0. 0. 1.]]</dd><dt><span>Software :</span></dt><dd>InsightToolkit</dd></dl></div></li></ul></div></div>"
      ],
      "text/plain": [
       "<xarray.DataArray (z: 236, y: 275, x: 271)>\n",
       "array([[[28, 27, 28, ..., 26, 34, 34],\n",
       "        [28, 28, 26, ..., 54, 28, 27],\n",
       "        [27, 28, 28, ..., 29, 28, 28],\n",
       "        ...,\n",
       "        [26, 27, 27, ..., 27, 28, 26],\n",
       "        [27, 26, 28, ..., 30, 26, 27],\n",
       "        [51, 27, 28, ..., 35, 45, 26]],\n",
       "\n",
       "       [[28, 29, 28, ..., 27, 28, 28],\n",
       "        [29, 27, 28, ..., 29, 28, 28],\n",
       "        [28, 29, 28, ..., 27, 27, 26],\n",
       "        ...,\n",
       "        [27, 27, 29, ..., 29, 27, 27],\n",
       "        [28, 27, 27, ..., 28, 27, 28],\n",
       "        [27, 27, 27, ..., 27, 29, 27]],\n",
       "\n",
       "       [[29, 27, 28, ..., 33, 28, 27],\n",
       "        [27, 28, 40, ..., 31, 29, 28],\n",
       "        [28, 28, 28, ..., 26, 27, 28],\n",
       "        ...,\n",
       "...\n",
       "        ...,\n",
       "        [28, 28, 28, ..., 29, 28, 51],\n",
       "        [27, 29, 28, ..., 28, 29, 28],\n",
       "        [28, 37, 28, ..., 28, 28, 52]],\n",
       "\n",
       "       [[28, 29, 27, ..., 31, 30, 37],\n",
       "        [30, 27, 28, ..., 28, 28, 32],\n",
       "        [28, 29, 32, ..., 31, 46, 29],\n",
       "        ...,\n",
       "        [29, 27, 29, ..., 28, 36, 29],\n",
       "        [29, 29, 28, ..., 29, 28, 28],\n",
       "        [28, 28, 29, ..., 27, 29, 28]],\n",
       "\n",
       "       [[33, 27, 27, ..., 35, 42, 28],\n",
       "        [28, 28, 28, ..., 29, 28, 43],\n",
       "        [28, 28, 27, ..., 28, 27, 28],\n",
       "        ...,\n",
       "        [28, 28, 28, ..., 27, 27, 40],\n",
       "        [28, 27, 29, ..., 28, 31, 27],\n",
       "        [27, 27, 28, ..., 27, 44, 32]]], dtype=uint16)\n",
       "Coordinates:\n",
       "  * x        (x) float64 0.0 1.0 2.0 3.0 4.0 ... 266.0 267.0 268.0 269.0 270.0\n",
       "  * y        (y) float64 0.0 1.0 2.0 3.0 4.0 ... 270.0 271.0 272.0 273.0 274.0\n",
       "  * z        (z) float64 0.0 1.0 2.0 3.0 4.0 ... 231.0 232.0 233.0 234.0 235.0\n",
       "Attributes:\n",
       "    direction:  [[1. 0. 0.]\\n [0. 1. 0.]\\n [0. 0. 1.]]\n",
       "    Software:   InsightToolkit"
      ]
     },
     "execution_count": 4,
     "metadata": {},
     "output_type": "execute_result"
    }
   ],
   "source": [
    "image_da = itk.xarray_from_image(image)\n",
    "\n",
    "image_da"
   ]
  },
  {
   "cell_type": "markdown",
   "metadata": {
    "slideshow": {
     "slide_type": "subslide"
    }
   },
   "source": [
    "### Other Data Structures\n",
    "\n",
    "* Mesh's\n",
    "* Transforms's\n",
    "* SpatialObject's\n",
    "* Path's\n",
    "* LabelMap's\n",
    "\n",
    "![Mesh](data/Mesh.png)\n",
    "\n",
    "![Transform](data/Transformation.png)"
   ]
  },
  {
   "cell_type": "markdown",
   "metadata": {
    "slideshow": {
     "slide_type": "subslide"
    }
   },
   "source": [
    "### ITK Resources\n",
    "\n",
    "* [ITK Python Quick Start Guide](https://itkpythonpackage.readthedocs.io/en/master/Quick_start_guide.html)\n",
    "\n",
    "* [Sphinx Examples](https://www.itk.org/ITKExamples)\n",
    "\n",
    "* [napari](https://napari.org/) - [conversion](https://pypi.org/project/itk_napari_conversion/), [io](https://pypi.org/project/napari-itk-io/), [registration](https://pypi.org/project/elastix-napari/)\n",
    "\n",
    "* [ITK Software Guide](https://www.itk.org/ItkSoftwareGuide.pdf)\n",
    "\n",
    "* [ITK Discourse Discussion](https://discourse.itk.org)\n",
    "\n",
    "* [Insight Software Consortium - NumFOCUS Sponsored Project](https://www.insightsoftwareconsortium.org/)\n",
    "\n",
    "* [Kitware - Commercial Support](https://www.kitware.com/)"
   ]
  },
  {
   "cell_type": "markdown",
   "metadata": {
    "slideshow": {
     "slide_type": "subslide"
    }
   },
   "source": [
    "### Enjoy ITK!"
   ]
  }
 ],
 "metadata": {
  "kernelspec": {
   "display_name": "Python 3",
   "language": "python",
   "name": "python3"
  },
  "language_info": {
   "codemirror_mode": {
    "name": "ipython",
    "version": 3
   },
   "file_extension": ".py",
   "mimetype": "text/x-python",
   "name": "python",
   "nbconvert_exporter": "python",
   "pygments_lexer": "ipython3",
   "version": "3.9.5"
  }
 },
 "nbformat": 4,
 "nbformat_minor": 1
}
