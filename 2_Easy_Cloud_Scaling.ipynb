{
 "cells": [
  {
   "cell_type": "markdown",
   "metadata": {},
   "source": [
    "# Distributed Image Processing in the Cloud "
   ]
  },
  {
   "cell_type": "markdown",
   "metadata": {},
   "source": [
    "## Learning objectives\n",
    "\n",
    "- Become familiar with **lazy, distributed Python image processing** with Dask\n",
    "- Learn how to start and interact with a **Coiled.io cloud cluster**\n",
    "- Understand why **consistent software environments** are required and how to create them"
   ]
  },
  {
   "cell_type": "markdown",
   "metadata": {},
   "source": [
    "## Distributed Python Image Processing with Dask"
   ]
  },
  {
   "cell_type": "markdown",
   "metadata": {},
   "source": [
    "![Dask overview](https://docs.dask.org/en/latest/_images/dask-overview.svg)\n",
    "\n",
    "[Dask](https://dask.org/) is *a Python-based, flexible library for parallel computing*. Dask provides dynamic task scheduling optimized for interactive computing, and parallel-friendly collections such as the `dask.array`.\n",
    "\n",
    "Dask can run tasks in parallel on a single machine via threads or processes. Or, the same code can trivially also be executed on a collection of local workstations connected via SSH, or an [HPC cluster with a traditional job scheduler](https://docs.dask.org/en/latest/setup/hpc.html), or a managed Kubernetes-based cloud cluster."
   ]
  },
  {
   "cell_type": "code",
   "execution_count": 1,
   "metadata": {},
   "outputs": [
    {
     "data": {
      "text/html": [
       "<table>\n",
       "<tr>\n",
       "<td>\n",
       "<table>\n",
       "  <thead>\n",
       "    <tr><td> </td><th> Array </th><th> Chunk </th></tr>\n",
       "  </thead>\n",
       "  <tbody>\n",
       "    <tr><th> Bytes </th><td> 67.09 MiB </td> <td> 145.56 kiB </td></tr>\n",
       "    <tr><th> Shape </th><td> (1, 2, 236, 275, 271) </td> <td> (1, 1, 1, 275, 271) </td></tr>\n",
       "    <tr><th> Count </th><td> 473 Tasks </td><td> 472 Chunks </td></tr>\n",
       "    <tr><th> Type </th><td> uint16 </td><td> numpy.ndarray </td></tr>\n",
       "  </tbody>\n",
       "</table>\n",
       "</td>\n",
       "<td>\n",
       "<svg width=\"418\" height=\"230\" style=\"stroke:rgb(0,0,0);stroke-width:1\" >\n",
       "\n",
       "  <!-- Horizontal lines -->\n",
       "  <line x1=\"0\" y1=\"0\" x2=\"25\" y2=\"0\" style=\"stroke-width:2\" />\n",
       "  <line x1=\"0\" y1=\"25\" x2=\"25\" y2=\"25\" style=\"stroke-width:2\" />\n",
       "\n",
       "  <!-- Vertical lines -->\n",
       "  <line x1=\"0\" y1=\"0\" x2=\"0\" y2=\"25\" style=\"stroke-width:2\" />\n",
       "  <line x1=\"12\" y1=\"0\" x2=\"12\" y2=\"25\" />\n",
       "  <line x1=\"25\" y1=\"0\" x2=\"25\" y2=\"25\" style=\"stroke-width:2\" />\n",
       "\n",
       "  <!-- Colored Rectangle -->\n",
       "  <polygon points=\"0.0,0.0 25.412616514582485,0.0 25.412616514582485,25.412616514582485 0.0,25.412616514582485\" style=\"fill:#ECB172A0;stroke-width:0\"/>\n",
       "\n",
       "  <!-- Text -->\n",
       "  <text x=\"12.706308\" y=\"45.412617\" font-size=\"1.0rem\" font-weight=\"100\" text-anchor=\"middle\" >2</text>\n",
       "  <text x=\"45.412617\" y=\"12.706308\" font-size=\"1.0rem\" font-weight=\"100\" text-anchor=\"middle\" transform=\"rotate(0,45.412617,12.706308)\">1</text>\n",
       "\n",
       "\n",
       "  <!-- Horizontal lines -->\n",
       "  <line x1=\"95\" y1=\"0\" x2=\"155\" y2=\"60\" style=\"stroke-width:2\" />\n",
       "  <line x1=\"95\" y1=\"120\" x2=\"155\" y2=\"180\" style=\"stroke-width:2\" />\n",
       "\n",
       "  <!-- Vertical lines -->\n",
       "  <line x1=\"95\" y1=\"0\" x2=\"95\" y2=\"120\" style=\"stroke-width:2\" />\n",
       "  <line x1=\"96\" y1=\"1\" x2=\"96\" y2=\"121\" />\n",
       "  <line x1=\"98\" y1=\"3\" x2=\"98\" y2=\"123\" />\n",
       "  <line x1=\"100\" y1=\"5\" x2=\"100\" y2=\"125\" />\n",
       "  <line x1=\"102\" y1=\"7\" x2=\"102\" y2=\"127\" />\n",
       "  <line x1=\"104\" y1=\"9\" x2=\"104\" y2=\"129\" />\n",
       "  <line x1=\"106\" y1=\"11\" x2=\"106\" y2=\"131\" />\n",
       "  <line x1=\"108\" y1=\"13\" x2=\"108\" y2=\"133\" />\n",
       "  <line x1=\"110\" y1=\"15\" x2=\"110\" y2=\"135\" />\n",
       "  <line x1=\"111\" y1=\"16\" x2=\"111\" y2=\"136\" />\n",
       "  <line x1=\"113\" y1=\"18\" x2=\"113\" y2=\"138\" />\n",
       "  <line x1=\"115\" y1=\"20\" x2=\"115\" y2=\"140\" />\n",
       "  <line x1=\"117\" y1=\"22\" x2=\"117\" y2=\"142\" />\n",
       "  <line x1=\"119\" y1=\"24\" x2=\"119\" y2=\"144\" />\n",
       "  <line x1=\"121\" y1=\"26\" x2=\"121\" y2=\"146\" />\n",
       "  <line x1=\"123\" y1=\"28\" x2=\"123\" y2=\"148\" />\n",
       "  <line x1=\"125\" y1=\"30\" x2=\"125\" y2=\"150\" />\n",
       "  <line x1=\"127\" y1=\"32\" x2=\"127\" y2=\"152\" />\n",
       "  <line x1=\"128\" y1=\"33\" x2=\"128\" y2=\"153\" />\n",
       "  <line x1=\"130\" y1=\"35\" x2=\"130\" y2=\"155\" />\n",
       "  <line x1=\"132\" y1=\"37\" x2=\"132\" y2=\"157\" />\n",
       "  <line x1=\"134\" y1=\"39\" x2=\"134\" y2=\"159\" />\n",
       "  <line x1=\"136\" y1=\"41\" x2=\"136\" y2=\"161\" />\n",
       "  <line x1=\"138\" y1=\"43\" x2=\"138\" y2=\"163\" />\n",
       "  <line x1=\"140\" y1=\"45\" x2=\"140\" y2=\"165\" />\n",
       "  <line x1=\"142\" y1=\"47\" x2=\"142\" y2=\"167\" />\n",
       "  <line x1=\"144\" y1=\"49\" x2=\"144\" y2=\"169\" />\n",
       "  <line x1=\"146\" y1=\"51\" x2=\"146\" y2=\"171\" />\n",
       "  <line x1=\"147\" y1=\"52\" x2=\"147\" y2=\"172\" />\n",
       "  <line x1=\"149\" y1=\"54\" x2=\"149\" y2=\"174\" />\n",
       "  <line x1=\"151\" y1=\"56\" x2=\"151\" y2=\"176\" />\n",
       "  <line x1=\"153\" y1=\"58\" x2=\"153\" y2=\"178\" />\n",
       "  <line x1=\"155\" y1=\"60\" x2=\"155\" y2=\"180\" style=\"stroke-width:2\" />\n",
       "\n",
       "  <!-- Colored Rectangle -->\n",
       "  <polygon points=\"95.0,0.0 155.57754010695186,60.57754010695187 155.57754010695186,180.57754010695186 95.0,120.0\" style=\"fill:#8B4903A0;stroke-width:0\"/>\n",
       "\n",
       "  <!-- Horizontal lines -->\n",
       "  <line x1=\"95\" y1=\"0\" x2=\"213\" y2=\"0\" style=\"stroke-width:2\" />\n",
       "  <line x1=\"96\" y1=\"1\" x2=\"215\" y2=\"1\" />\n",
       "  <line x1=\"98\" y1=\"3\" x2=\"216\" y2=\"3\" />\n",
       "  <line x1=\"100\" y1=\"5\" x2=\"218\" y2=\"5\" />\n",
       "  <line x1=\"102\" y1=\"7\" x2=\"220\" y2=\"7\" />\n",
       "  <line x1=\"104\" y1=\"9\" x2=\"222\" y2=\"9\" />\n",
       "  <line x1=\"106\" y1=\"11\" x2=\"224\" y2=\"11\" />\n",
       "  <line x1=\"108\" y1=\"13\" x2=\"226\" y2=\"13\" />\n",
       "  <line x1=\"110\" y1=\"15\" x2=\"228\" y2=\"15\" />\n",
       "  <line x1=\"111\" y1=\"16\" x2=\"230\" y2=\"16\" />\n",
       "  <line x1=\"113\" y1=\"18\" x2=\"231\" y2=\"18\" />\n",
       "  <line x1=\"115\" y1=\"20\" x2=\"234\" y2=\"20\" />\n",
       "  <line x1=\"117\" y1=\"22\" x2=\"235\" y2=\"22\" />\n",
       "  <line x1=\"119\" y1=\"24\" x2=\"237\" y2=\"24\" />\n",
       "  <line x1=\"121\" y1=\"26\" x2=\"239\" y2=\"26\" />\n",
       "  <line x1=\"123\" y1=\"28\" x2=\"241\" y2=\"28\" />\n",
       "  <line x1=\"125\" y1=\"30\" x2=\"243\" y2=\"30\" />\n",
       "  <line x1=\"127\" y1=\"32\" x2=\"245\" y2=\"32\" />\n",
       "  <line x1=\"128\" y1=\"33\" x2=\"247\" y2=\"33\" />\n",
       "  <line x1=\"130\" y1=\"35\" x2=\"249\" y2=\"35\" />\n",
       "  <line x1=\"132\" y1=\"37\" x2=\"250\" y2=\"37\" />\n",
       "  <line x1=\"134\" y1=\"39\" x2=\"252\" y2=\"39\" />\n",
       "  <line x1=\"136\" y1=\"41\" x2=\"254\" y2=\"41\" />\n",
       "  <line x1=\"138\" y1=\"43\" x2=\"256\" y2=\"43\" />\n",
       "  <line x1=\"140\" y1=\"45\" x2=\"258\" y2=\"45\" />\n",
       "  <line x1=\"142\" y1=\"47\" x2=\"260\" y2=\"47\" />\n",
       "  <line x1=\"144\" y1=\"49\" x2=\"262\" y2=\"49\" />\n",
       "  <line x1=\"146\" y1=\"51\" x2=\"264\" y2=\"51\" />\n",
       "  <line x1=\"147\" y1=\"52\" x2=\"266\" y2=\"52\" />\n",
       "  <line x1=\"149\" y1=\"54\" x2=\"267\" y2=\"54\" />\n",
       "  <line x1=\"151\" y1=\"56\" x2=\"269\" y2=\"56\" />\n",
       "  <line x1=\"153\" y1=\"58\" x2=\"271\" y2=\"58\" />\n",
       "  <line x1=\"155\" y1=\"60\" x2=\"273\" y2=\"60\" style=\"stroke-width:2\" />\n",
       "\n",
       "  <!-- Vertical lines -->\n",
       "  <line x1=\"95\" y1=\"0\" x2=\"155\" y2=\"60\" style=\"stroke-width:2\" />\n",
       "  <line x1=\"213\" y1=\"0\" x2=\"273\" y2=\"60\" style=\"stroke-width:2\" />\n",
       "\n",
       "  <!-- Colored Rectangle -->\n",
       "  <polygon points=\"95.0,0.0 213.25454545454545,0.0 273.8320855614973,60.57754010695187 155.57754010695186,60.57754010695187\" style=\"fill:#8B4903A0;stroke-width:0\"/>\n",
       "\n",
       "  <!-- Horizontal lines -->\n",
       "  <line x1=\"155\" y1=\"60\" x2=\"273\" y2=\"60\" style=\"stroke-width:2\" />\n",
       "  <line x1=\"155\" y1=\"180\" x2=\"273\" y2=\"180\" style=\"stroke-width:2\" />\n",
       "\n",
       "  <!-- Vertical lines -->\n",
       "  <line x1=\"155\" y1=\"60\" x2=\"155\" y2=\"180\" style=\"stroke-width:2\" />\n",
       "  <line x1=\"273\" y1=\"60\" x2=\"273\" y2=\"180\" style=\"stroke-width:2\" />\n",
       "\n",
       "  <!-- Colored Rectangle -->\n",
       "  <polygon points=\"155.57754010695186,60.57754010695187 273.8320855614973,60.57754010695187 273.8320855614973,180.57754010695186 155.57754010695186,180.57754010695186\" style=\"fill:#ECB172A0;stroke-width:0\"/>\n",
       "\n",
       "  <!-- Text -->\n",
       "  <text x=\"214.704813\" y=\"200.577540\" font-size=\"1.0rem\" font-weight=\"100\" text-anchor=\"middle\" >271</text>\n",
       "  <text x=\"293.832086\" y=\"120.577540\" font-size=\"1.0rem\" font-weight=\"100\" text-anchor=\"middle\" transform=\"rotate(-90,293.832086,120.577540)\">275</text>\n",
       "  <text x=\"115.288770\" y=\"170.288770\" font-size=\"1.0rem\" font-weight=\"100\" text-anchor=\"middle\" transform=\"rotate(45,115.288770,170.288770)\">236</text>\n",
       "</svg>\n",
       "</td>\n",
       "</tr>\n",
       "</table>"
      ],
      "text/plain": [
       "dask.array<from-zarr, shape=(1, 2, 236, 275, 271), dtype=uint16, chunksize=(1, 1, 1, 275, 271), chunktype=numpy.ndarray>"
      ]
     },
     "execution_count": 1,
     "metadata": {},
     "output_type": "execute_result"
    }
   ],
   "source": [
    "# Load the OME-Zarr image array\n",
    "import dask.array as da\n",
    "\n",
    "arr = da.from_zarr('https://s3.embassy.ebi.ac.uk/idr/zarr/v0.1/6001240.zarr', '0')\n",
    "arr"
   ]
  },
  {
   "cell_type": "code",
   "execution_count": 2,
   "metadata": {},
   "outputs": [
    {
     "name": "stdout",
     "output_type": "stream",
     "text": [
      "<class 'itk.itkImagePython.itkImageUS3'>\n",
      "(236, 275, 271)\n"
     ]
    }
   ],
   "source": [
    "import itk\n",
    "\n",
    "image = itk.imread('data/6001240.tif')\n",
    "\n",
    "print(type(image))\n",
    "print(image.shape)"
   ]
  },
  {
   "cell_type": "code",
   "execution_count": 3,
   "metadata": {},
   "outputs": [
    {
     "data": {
      "text/html": [
       "<table>\n",
       "<tr>\n",
       "<td>\n",
       "<table>\n",
       "  <thead>\n",
       "    <tr><td> </td><th> Array </th><th> Chunk </th></tr>\n",
       "  </thead>\n",
       "  <tbody>\n",
       "    <tr><th> Bytes </th><td> 33.55 MiB </td> <td> 512.00 kiB </td></tr>\n",
       "    <tr><th> Shape </th><td> (236, 275, 271) </td> <td> (64, 64, 64) </td></tr>\n",
       "    <tr><th> Count </th><td> 100 Tasks </td><td> 100 Chunks </td></tr>\n",
       "    <tr><th> Type </th><td> uint16 </td><td> numpy.ndarray </td></tr>\n",
       "  </tbody>\n",
       "</table>\n",
       "</td>\n",
       "<td>\n",
       "<svg width=\"238\" height=\"230\" style=\"stroke:rgb(0,0,0);stroke-width:1\" >\n",
       "\n",
       "  <!-- Horizontal lines -->\n",
       "  <line x1=\"10\" y1=\"0\" x2=\"70\" y2=\"60\" style=\"stroke-width:2\" />\n",
       "  <line x1=\"10\" y1=\"27\" x2=\"70\" y2=\"88\" />\n",
       "  <line x1=\"10\" y1=\"55\" x2=\"70\" y2=\"116\" />\n",
       "  <line x1=\"10\" y1=\"83\" x2=\"70\" y2=\"144\" />\n",
       "  <line x1=\"10\" y1=\"111\" x2=\"70\" y2=\"172\" />\n",
       "  <line x1=\"10\" y1=\"120\" x2=\"70\" y2=\"180\" style=\"stroke-width:2\" />\n",
       "\n",
       "  <!-- Vertical lines -->\n",
       "  <line x1=\"10\" y1=\"0\" x2=\"10\" y2=\"120\" style=\"stroke-width:2\" />\n",
       "  <line x1=\"26\" y1=\"16\" x2=\"26\" y2=\"136\" />\n",
       "  <line x1=\"42\" y1=\"32\" x2=\"42\" y2=\"152\" />\n",
       "  <line x1=\"59\" y1=\"49\" x2=\"59\" y2=\"169\" />\n",
       "  <line x1=\"70\" y1=\"60\" x2=\"70\" y2=\"180\" style=\"stroke-width:2\" />\n",
       "\n",
       "  <!-- Colored Rectangle -->\n",
       "  <polygon points=\"10.0,0.0 70.57754010695187,60.57754010695187 70.57754010695187,180.57754010695186 10.0,120.0\" style=\"fill:#ECB172A0;stroke-width:0\"/>\n",
       "\n",
       "  <!-- Horizontal lines -->\n",
       "  <line x1=\"10\" y1=\"0\" x2=\"128\" y2=\"0\" style=\"stroke-width:2\" />\n",
       "  <line x1=\"26\" y1=\"16\" x2=\"144\" y2=\"16\" />\n",
       "  <line x1=\"42\" y1=\"32\" x2=\"161\" y2=\"32\" />\n",
       "  <line x1=\"59\" y1=\"49\" x2=\"177\" y2=\"49\" />\n",
       "  <line x1=\"70\" y1=\"60\" x2=\"188\" y2=\"60\" style=\"stroke-width:2\" />\n",
       "\n",
       "  <!-- Vertical lines -->\n",
       "  <line x1=\"10\" y1=\"0\" x2=\"70\" y2=\"60\" style=\"stroke-width:2\" />\n",
       "  <line x1=\"37\" y1=\"0\" x2=\"98\" y2=\"60\" />\n",
       "  <line x1=\"65\" y1=\"0\" x2=\"126\" y2=\"60\" />\n",
       "  <line x1=\"93\" y1=\"0\" x2=\"154\" y2=\"60\" />\n",
       "  <line x1=\"121\" y1=\"0\" x2=\"182\" y2=\"60\" />\n",
       "  <line x1=\"128\" y1=\"0\" x2=\"188\" y2=\"60\" style=\"stroke-width:2\" />\n",
       "\n",
       "  <!-- Colored Rectangle -->\n",
       "  <polygon points=\"10.0,0.0 128.25454545454545,0.0 188.8320855614973,60.57754010695187 70.57754010695187,60.57754010695187\" style=\"fill:#ECB172A0;stroke-width:0\"/>\n",
       "\n",
       "  <!-- Horizontal lines -->\n",
       "  <line x1=\"70\" y1=\"60\" x2=\"188\" y2=\"60\" style=\"stroke-width:2\" />\n",
       "  <line x1=\"70\" y1=\"88\" x2=\"188\" y2=\"88\" />\n",
       "  <line x1=\"70\" y1=\"116\" x2=\"188\" y2=\"116\" />\n",
       "  <line x1=\"70\" y1=\"144\" x2=\"188\" y2=\"144\" />\n",
       "  <line x1=\"70\" y1=\"172\" x2=\"188\" y2=\"172\" />\n",
       "  <line x1=\"70\" y1=\"180\" x2=\"188\" y2=\"180\" style=\"stroke-width:2\" />\n",
       "\n",
       "  <!-- Vertical lines -->\n",
       "  <line x1=\"70\" y1=\"60\" x2=\"70\" y2=\"180\" style=\"stroke-width:2\" />\n",
       "  <line x1=\"98\" y1=\"60\" x2=\"98\" y2=\"180\" />\n",
       "  <line x1=\"126\" y1=\"60\" x2=\"126\" y2=\"180\" />\n",
       "  <line x1=\"154\" y1=\"60\" x2=\"154\" y2=\"180\" />\n",
       "  <line x1=\"182\" y1=\"60\" x2=\"182\" y2=\"180\" />\n",
       "  <line x1=\"188\" y1=\"60\" x2=\"188\" y2=\"180\" style=\"stroke-width:2\" />\n",
       "\n",
       "  <!-- Colored Rectangle -->\n",
       "  <polygon points=\"70.57754010695187,60.57754010695187 188.8320855614973,60.57754010695187 188.8320855614973,180.57754010695186 70.57754010695187,180.57754010695186\" style=\"fill:#ECB172A0;stroke-width:0\"/>\n",
       "\n",
       "  <!-- Text -->\n",
       "  <text x=\"129.704813\" y=\"200.577540\" font-size=\"1.0rem\" font-weight=\"100\" text-anchor=\"middle\" >271</text>\n",
       "  <text x=\"208.832086\" y=\"120.577540\" font-size=\"1.0rem\" font-weight=\"100\" text-anchor=\"middle\" transform=\"rotate(-90,208.832086,120.577540)\">275</text>\n",
       "  <text x=\"30.288770\" y=\"170.288770\" font-size=\"1.0rem\" font-weight=\"100\" text-anchor=\"middle\" transform=\"rotate(45,30.288770,170.288770)\">236</text>\n",
       "</svg>\n",
       "</td>\n",
       "</tr>\n",
       "</table>"
      ],
      "text/plain": [
       "dask.array<array, shape=(236, 275, 271), dtype=uint16, chunksize=(64, 64, 64), chunktype=numpy.ndarray>"
      ]
     },
     "execution_count": 3,
     "metadata": {},
     "output_type": "execute_result"
    }
   ],
   "source": [
    "import numpy as np\n",
    "import dask.array as da\n",
    "\n",
    "\n",
    "arr = np.asarray(image)\n",
    "arr = da.from_array(arr, chunks=64)\n",
    "\n",
    "arr"
   ]
  },
  {
   "cell_type": "code",
   "execution_count": 4,
   "metadata": {},
   "outputs": [
    {
     "data": {
      "application/vnd.jupyter.widget-view+json": {
       "model_id": "655e2446ff134a4893b31f543751e35c",
       "version_major": 2,
       "version_minor": 0
      },
      "text/plain": [
       "Viewer(geometries=[], gradient_opacity=0.22, point_sets=[], rendered_image=<itk.itkImagePython.itkImageUS3; pr…"
      ]
     },
     "metadata": {},
     "output_type": "display_data"
    }
   ],
   "source": [
    "from itkwidgets import view\n",
    "view(arr)"
   ]
  },
  {
   "cell_type": "code",
   "execution_count": 19,
   "metadata": {},
   "outputs": [],
   "source": [
    "def denoise(array_chunk):\n",
    "    # Currently required for serialization\n",
    "    import itk\n",
    "    itk.force_load()\n",
    "    \n",
    "    # itk already has parallelism on a single-machine -- if running\n",
    "    # with dask in parallel on a single-machine, avoid over-subscription\n",
    "    #\n",
    "    # itk.set_nthreads(1)\n",
    "    \n",
    "    array_float = array_chunk.astype(np.float32)\n",
    "\n",
    "    denoised = itk.curvature_flow_image_filter(array_float,\n",
    "                                               number_of_iterations=10)\n",
    "    denoised = itk.median_image_filter(denoised, radius=1)\n",
    "    denoised = itk.smoothing_recursive_gaussian_image_filter(denoised,\n",
    "                                                             sigma=0.5)\n",
    "    \n",
    "    return denoised\n",
    "\n",
    "denoised = arr.map_blocks(denoise, dtype=np.float32)"
   ]
  },
  {
   "cell_type": "code",
   "execution_count": 20,
   "metadata": {},
   "outputs": [],
   "source": [
    "denoised = denoised.compute()"
   ]
  },
  {
   "cell_type": "code",
   "execution_count": 7,
   "metadata": {},
   "outputs": [
    {
     "data": {
      "application/vnd.jupyter.widget-view+json": {
       "model_id": "1f0260ece65245fb85f2695677c158c1",
       "version_major": 2,
       "version_minor": 0
      },
      "text/plain": [
       "Viewer(geometries=[], gradient_opacity=0.22, point_sets=[], rendered_image=<itk.itkImagePython.itkImageF3; pro…"
      ]
     },
     "metadata": {},
     "output_type": "display_data"
    }
   ],
   "source": [
    "view(denoised)"
   ]
  },
  {
   "cell_type": "code",
   "execution_count": 10,
   "metadata": {},
   "outputs": [],
   "source": [
    "denoised = arr.map_overlap(denoise, dtype=np.float32,\n",
    "                           depth=6)"
   ]
  },
  {
   "cell_type": "code",
   "execution_count": 11,
   "metadata": {},
   "outputs": [
    {
     "data": {
      "application/vnd.jupyter.widget-view+json": {
       "model_id": "1ea359ff3c5c481299b8ec580467213a",
       "version_major": 2,
       "version_minor": 0
      },
      "text/plain": [
       "Viewer(geometries=[], gradient_opacity=0.22, point_sets=[], rendered_image=<itk.itkImagePython.itkImageF3; pro…"
      ]
     },
     "metadata": {},
     "output_type": "display_data"
    }
   ],
   "source": [
    "denoised = denoised.compute()\n",
    "view(denoised)"
   ]
  },
  {
   "cell_type": "markdown",
   "metadata": {},
   "source": [
    "## Cloud cluster"
   ]
  },
  {
   "cell_type": "markdown",
   "metadata": {},
   "source": [
    "[Coiled.io](https://coiled.io/) is a service that provides a dynamic cloud cluster with minimal configuration."
   ]
  },
  {
   "cell_type": "code",
   "execution_count": 14,
   "metadata": {},
   "outputs": [
    {
     "data": {
      "application/vnd.jupyter.widget-view+json": {
       "model_id": "",
       "version_major": 2,
       "version_minor": 0
      },
      "text/plain": [
       "Output()"
      ]
     },
     "metadata": {},
     "output_type": "display_data"
    },
    {
     "name": "stdout",
     "output_type": "stream",
     "text": [
      "Found software environment build\n"
     ]
    },
    {
     "data": {
      "text/html": [
       "<pre style=\"white-space:pre;overflow-x:auto;line-height:normal;font-family:Menlo,'DejaVu Sans Mono',consolas,'Courier New',monospace\"></pre>\n"
      ],
      "text/plain": []
     },
     "metadata": {},
     "output_type": "display_data"
    },
    {
     "data": {
      "text/html": [
       "<table style=\"border: 2px solid white;\">\n",
       "<tr>\n",
       "<td style=\"vertical-align: top; border: 0px solid white\">\n",
       "<h3 style=\"text-align: left;\">Client</h3>\n",
       "<ul style=\"text-align: left; list-style: none; margin: 0; padding: 0;\">\n",
       "  <li><b>Scheduler: </b>tls://ec2-35-172-121-209.compute-1.amazonaws.com:8786</li>\n",
       "  <li><b>Dashboard: </b><a href='http://ec2-35-172-121-209.compute-1.amazonaws.com:8787' target='_blank'>http://ec2-35-172-121-209.compute-1.amazonaws.com:8787</a></li>\n",
       "</ul>\n",
       "</td>\n",
       "<td style=\"vertical-align: top; border: 0px solid white\">\n",
       "<h3 style=\"text-align: left;\">Cluster</h3>\n",
       "<ul style=\"text-align: left; list-style:none; margin: 0; padding: 0;\">\n",
       "  <li><b>Workers: </b>2</li>\n",
       "  <li><b>Cores: </b>4</li>\n",
       "  <li><b>Memory: </b>10.00 GiB</li>\n",
       "</ul>\n",
       "</td>\n",
       "</tr>\n",
       "</table>"
      ],
      "text/plain": [
       "<Client: 'tls://10.3.193.133:8786' processes=2 threads=4, memory=10.00 GiB>"
      ]
     },
     "execution_count": 14,
     "metadata": {},
     "output_type": "execute_result"
    }
   ],
   "source": [
    "#ciskip\n",
    "# Start a new cloud cluster\n",
    "\n",
    "# You must first log into Coiled.\n",
    "import coiled\n",
    "from dask.distributed import Client\n",
    "\n",
    "# Set to re-use a running cluster when re-running the notebook.\n",
    "# Listed at https://cloud.coiled.io/<username>/clusters.\n",
    "# name = 'thewtex-dd6121ae-0'\n",
    "name = None\n",
    "cluster = coiled.Cluster(n_workers=4,\n",
    "                         worker_cpu=2,\n",
    "                         worker_memory='6G',\n",
    "                         name=name,\n",
    "                         software='thewtex/coiled-science-thursdays-itk')\n",
    "    \n",
    "client = Client(cluster)\n",
    "# Click on the *Dashboard* link\n",
    "client"
   ]
  },
  {
   "cell_type": "markdown",
   "metadata": {},
   "source": [
    "*Note:*\n",
    "\n",
    "It is **critical** that the:\n",
    "\n",
    "- Jupyter client\n",
    "- Jupyter kernel\n",
    "- Dask scheduler\n",
    "- Dask workers\n",
    "\n",
    "all have a consistent software environment.\n",
    "\n",
    "See [the coiled documentation on how to create a consistent software environment](https://docs.coiled.io/user_guide/software_environment.html)."
   ]
  },
  {
   "cell_type": "code",
   "execution_count": 12,
   "metadata": {},
   "outputs": [],
   "source": [
    "%pycat ./create_coiled_software_environment.py"
   ]
  },
  {
   "cell_type": "code",
   "execution_count": 22,
   "metadata": {},
   "outputs": [],
   "source": [
    "# Run on the cloud cluster -- keep an eye on the dashboard!\n",
    "\n",
    "denoised = arr.map_overlap(denoise, dtype=np.float32,\n",
    "                           depth=6)\n",
    "denoised = denoised.compute()"
   ]
  },
  {
   "cell_type": "markdown",
   "metadata": {},
   "source": [
    "### Dask Imaging Resources\n",
    "\n",
    "- [Dask documention](https://docs.dask.org/en/latest/)\n",
    "- [Coiled documentation](https://docs.coiled.io/user_guide/index.html)\n",
    "- [`dask-image` documentation](https://image.dask.org/en/latest/)\n",
    "- [Bioimaging Image2Knowledge (I2K) 2020 Tutorial](https://github.com/thewtex/modern-insights-from-microscopy-images)\n",
    "- [SuperComputing 2020 pyHPC Material Science Publication](https://github.com/dani-lbnl/SC20_pyHPC) "
   ]
  }
 ],
 "metadata": {
  "kernelspec": {
   "display_name": "Python 3",
   "language": "python",
   "name": "python3"
  },
  "language_info": {
   "codemirror_mode": {
    "name": "ipython",
    "version": 3
   },
   "file_extension": ".py",
   "mimetype": "text/x-python",
   "name": "python",
   "nbconvert_exporter": "python",
   "pygments_lexer": "ipython3",
   "version": "3.9.5"
  }
 },
 "nbformat": 4,
 "nbformat_minor": 4
}
